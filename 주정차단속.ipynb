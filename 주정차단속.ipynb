{
 "cells": [
  {
   "cell_type": "code",
   "execution_count": 1,
   "id": "d675112a-6628-4a56-a1c6-7c8d57368949",
   "metadata": {},
   "outputs": [],
   "source": [
    "import pandas as pd\n",
    "import numpy as np"
   ]
  },
  {
   "cell_type": "code",
   "execution_count": 3,
   "id": "0b5c7d21-547c-4c38-87f7-c62a0ba2df10",
   "metadata": {},
   "outputs": [
    {
     "data": {
      "text/html": [
       "<div>\n",
       "<style scoped>\n",
       "    .dataframe tbody tr th:only-of-type {\n",
       "        vertical-align: middle;\n",
       "    }\n",
       "\n",
       "    .dataframe tbody tr th {\n",
       "        vertical-align: top;\n",
       "    }\n",
       "\n",
       "    .dataframe thead th {\n",
       "        text-align: right;\n",
       "    }\n",
       "</style>\n",
       "<table border=\"1\" class=\"dataframe\">\n",
       "  <thead>\n",
       "    <tr style=\"text-align: right;\">\n",
       "      <th></th>\n",
       "      <th>단속일시</th>\n",
       "      <th>단속원금</th>\n",
       "      <th>단속동</th>\n",
       "      <th>단속장소</th>\n",
       "      <th>위반내용</th>\n",
       "      <th>견인지시</th>\n",
       "    </tr>\n",
       "  </thead>\n",
       "  <tbody>\n",
       "    <tr>\n",
       "      <th>0</th>\n",
       "      <td>2022-01-01 2:29</td>\n",
       "      <td>40000</td>\n",
       "      <td>중곡동</td>\n",
       "      <td>서울특별시 광진구 영화사로5길 19</td>\n",
       "      <td>교통소통장애</td>\n",
       "      <td>미견인</td>\n",
       "    </tr>\n",
       "    <tr>\n",
       "      <th>1</th>\n",
       "      <td>2022-01-01 6:41</td>\n",
       "      <td>80000</td>\n",
       "      <td>중곡동</td>\n",
       "      <td>150-196</td>\n",
       "      <td>소화전</td>\n",
       "      <td>미견인</td>\n",
       "    </tr>\n",
       "    <tr>\n",
       "      <th>2</th>\n",
       "      <td>2022-01-01 7:02</td>\n",
       "      <td>40000</td>\n",
       "      <td>구의동</td>\n",
       "      <td>서울 광진구 구의동 660-1 주차장앞</td>\n",
       "      <td>교통소통장애</td>\n",
       "      <td>미견인</td>\n",
       "    </tr>\n",
       "    <tr>\n",
       "      <th>3</th>\n",
       "      <td>2022-01-01 7:29</td>\n",
       "      <td>40000</td>\n",
       "      <td>구의동</td>\n",
       "      <td>서울 광진구 구의동 6-4</td>\n",
       "      <td>횡단보도</td>\n",
       "      <td>견인처리</td>\n",
       "    </tr>\n",
       "    <tr>\n",
       "      <th>4</th>\n",
       "      <td>2022-01-01 10:55</td>\n",
       "      <td>40000</td>\n",
       "      <td>구의동</td>\n",
       "      <td>리젠트오피스텔건너편</td>\n",
       "      <td>안전지대</td>\n",
       "      <td>미견인</td>\n",
       "    </tr>\n",
       "    <tr>\n",
       "      <th>...</th>\n",
       "      <td>...</td>\n",
       "      <td>...</td>\n",
       "      <td>...</td>\n",
       "      <td>...</td>\n",
       "      <td>...</td>\n",
       "      <td>...</td>\n",
       "    </tr>\n",
       "    <tr>\n",
       "      <th>39727</th>\n",
       "      <td>2023-02-28 20:43</td>\n",
       "      <td>32000</td>\n",
       "      <td>군자동</td>\n",
       "      <td>군자빌딩</td>\n",
       "      <td>주정차금지(황색실선)구역</td>\n",
       "      <td>미견인</td>\n",
       "    </tr>\n",
       "    <tr>\n",
       "      <th>39728</th>\n",
       "      <td>2023-02-28 21:23</td>\n",
       "      <td>8000</td>\n",
       "      <td>자양동</td>\n",
       "      <td>서울 광진구 자양동 659-32</td>\n",
       "      <td>보도</td>\n",
       "      <td>미견인</td>\n",
       "    </tr>\n",
       "    <tr>\n",
       "      <th>39729</th>\n",
       "      <td>2023-02-28 21:38</td>\n",
       "      <td>32000</td>\n",
       "      <td>화양동</td>\n",
       "      <td>서울 광진구 능동로 154</td>\n",
       "      <td>보도</td>\n",
       "      <td>미견인</td>\n",
       "    </tr>\n",
       "    <tr>\n",
       "      <th>39730</th>\n",
       "      <td>2023-02-28 22:36</td>\n",
       "      <td>32000</td>\n",
       "      <td>자양동</td>\n",
       "      <td>서울 광진구 자양동 12-10</td>\n",
       "      <td>교차로</td>\n",
       "      <td>미견인</td>\n",
       "    </tr>\n",
       "    <tr>\n",
       "      <th>39731</th>\n",
       "      <td>2023-02-28 23:19</td>\n",
       "      <td>32000</td>\n",
       "      <td>자양동</td>\n",
       "      <td>02월 02일</td>\n",
       "      <td>횡단보도</td>\n",
       "      <td>미견인</td>\n",
       "    </tr>\n",
       "  </tbody>\n",
       "</table>\n",
       "<p>39732 rows × 6 columns</p>\n",
       "</div>"
      ],
      "text/plain": [
       "                   단속일시   단속원금  단속동                   단속장소           위반내용  \\\n",
       "0       2022-01-01 2:29  40000  중곡동    서울특별시 광진구 영화사로5길 19         교통소통장애   \n",
       "1       2022-01-01 6:41  80000  중곡동                150-196            소화전   \n",
       "2       2022-01-01 7:02  40000  구의동  서울 광진구 구의동 660-1 주차장앞         교통소통장애   \n",
       "3       2022-01-01 7:29  40000  구의동         서울 광진구 구의동 6-4           횡단보도   \n",
       "4      2022-01-01 10:55  40000  구의동             리젠트오피스텔건너편           안전지대   \n",
       "...                 ...    ...  ...                    ...            ...   \n",
       "39727  2023-02-28 20:43  32000  군자동                   군자빌딩  주정차금지(황색실선)구역   \n",
       "39728  2023-02-28 21:23   8000  자양동      서울 광진구 자양동 659-32             보도   \n",
       "39729  2023-02-28 21:38  32000  화양동         서울 광진구 능동로 154             보도   \n",
       "39730  2023-02-28 22:36  32000  자양동       서울 광진구 자양동 12-10            교차로   \n",
       "39731  2023-02-28 23:19  32000  자양동                02월 02일           횡단보도   \n",
       "\n",
       "       견인지시  \n",
       "0       미견인  \n",
       "1       미견인  \n",
       "2       미견인  \n",
       "3      견인처리  \n",
       "4       미견인  \n",
       "...     ...  \n",
       "39727   미견인  \n",
       "39728   미견인  \n",
       "39729   미견인  \n",
       "39730   미견인  \n",
       "39731   미견인  \n",
       "\n",
       "[39732 rows x 6 columns]"
      ]
     },
     "execution_count": 3,
     "metadata": {},
     "output_type": "execute_result"
    }
   ],
   "source": [
    "data = pd.read_csv('주정차 단속현황.csv')\n",
    "data"
   ]
  },
  {
   "cell_type": "code",
   "execution_count": 4,
   "id": "b0818a8d-1c4c-41e6-8fad-3d32fd60998e",
   "metadata": {},
   "outputs": [
    {
     "data": {
      "text/plain": [
       "0        중곡동\n",
       "1        중곡동\n",
       "2        구의동\n",
       "3        구의동\n",
       "4        구의동\n",
       "        ... \n",
       "39727    군자동\n",
       "39728    자양동\n",
       "39729    화양동\n",
       "39730    자양동\n",
       "39731    자양동\n",
       "Name: 단속동, Length: 39732, dtype: object"
      ]
     },
     "execution_count": 4,
     "metadata": {},
     "output_type": "execute_result"
    }
   ],
   "source": [
    "data.loc[:,'단속동']"
   ]
  },
  {
   "cell_type": "code",
   "execution_count": 6,
   "id": "a6e176be-d1ef-4a45-99b8-c2b1951e9c5e",
   "metadata": {},
   "outputs": [
    {
     "data": {
      "text/plain": [
       "22"
      ]
     },
     "execution_count": 6,
     "metadata": {},
     "output_type": "execute_result"
    }
   ],
   "source": [
    "data['단속동'].nunique()"
   ]
  },
  {
   "cell_type": "code",
   "execution_count": 8,
   "id": "54116202-7282-43e2-8f4c-1ecebbf6fd87",
   "metadata": {},
   "outputs": [
    {
     "data": {
      "text/plain": [
       "구의동         10033\n",
       "중곡동          9366\n",
       "자양동          7859\n",
       "광장동          4671\n",
       "군자동          2937\n",
       "화양동          2561\n",
       "능동           2283\n",
       "자양강변길           3\n",
       "긴고랑로            3\n",
       "아차산로70길         2\n",
       "구의강변로3가길        2\n",
       "능동로             2\n",
       "광나루로            1\n",
       "동일로             1\n",
       "면목로17길          1\n",
       "강변북로            1\n",
       "아차산로58길         1\n",
       "천호대로104길        1\n",
       "동일로60길          1\n",
       "군자로             1\n",
       "용마산로21길         1\n",
       "동일로72길          1\n",
       "Name: 단속동, dtype: int64"
      ]
     },
     "execution_count": 8,
     "metadata": {},
     "output_type": "execute_result"
    }
   ],
   "source": [
    "data['단속동'].value_counts()"
   ]
  },
  {
   "cell_type": "code",
   "execution_count": 50,
   "id": "3d1306f0-16e7-4cf1-94d4-f6fdb19dc977",
   "metadata": {},
   "outputs": [
    {
     "data": {
      "text/plain": [
       "<BarContainer object of 7 artists>"
      ]
     },
     "execution_count": 50,
     "metadata": {},
     "output_type": "execute_result"
    },
    {
     "data": {
      "image/png": "[encoded data removed]",
      "text/plain": [
       "<Figure size 864x720 with 1 Axes>"
      ]
     },
     "metadata": {
      "needs_background": "light"
     },
     "output_type": "display_data"
    }
   ],
   "source": [
    "import matplotlib.pyplot as plt\n",
    " \n",
    "# 한글 폰트 사용을 위해서 세팅\n",
    "from matplotlib import font_manager, rc\n",
    "font_path = \"C:/Windows/Fonts/NGULIM.TTF\"\n",
    "font = font_manager.FontProperties(fname=font_path).get_name()\n",
    "rc('font', family=font)\n",
    "\n",
    "fig, ax = plt.subplots(figsize=(12, 10))\n",
    "plt.bar(pv1.index, pv1)\n"
   ]
  },
  {
   "cell_type": "code",
   "execution_count": 17,
   "id": "a05753e3-8648-454d-bc28-1d18812c89d3",
   "metadata": {},
   "outputs": [
    {
     "data": {
      "text/plain": [
       "지너스타워 주차장 앞          1386\n",
       "리젠트오피스텔건너편           1375\n",
       "구의동 웰츠타워 앞            991\n",
       "MB모터스 옆               787\n",
       "강변역 1번 출구             744\n",
       "서울특별시 광진구 긴고랑로 43     664\n",
       "우리은행 앞                567\n",
       "건대입구 1번 출구 앞          502\n",
       "Name: 단속장소, dtype: int64"
      ]
     },
     "execution_count": 17,
     "metadata": {},
     "output_type": "execute_result"
    }
   ],
   "source": [
    "data['단속장소'].value_counts().loc[lambda x:x>500]"
   ]
  },
  {
   "cell_type": "code",
   "execution_count": 21,
   "id": "14615507-8271-435c-8dc7-8abdb1700abb",
   "metadata": {},
   "outputs": [
    {
     "data": {
      "text/plain": [
       "0       2022-01-01 02:29:00\n",
       "1       2022-01-01 06:41:00\n",
       "2       2022-01-01 07:02:00\n",
       "3       2022-01-01 07:29:00\n",
       "4       2022-01-01 10:55:00\n",
       "                ...        \n",
       "39727   2023-02-28 20:43:00\n",
       "39728   2023-02-28 21:23:00\n",
       "39729   2023-02-28 21:38:00\n",
       "39730   2023-02-28 22:36:00\n",
       "39731   2023-02-28 23:19:00\n",
       "Name: Time, Length: 39732, dtype: datetime64[ns]"
      ]
     },
     "execution_count": 21,
     "metadata": {},
     "output_type": "execute_result"
    }
   ],
   "source": [
    "data['Time']=pd.to_datetime(data['단속일시'])\n",
    "data['Time']"
   ]
  },
  {
   "cell_type": "code",
   "execution_count": 36,
   "id": "f44da8b4-3720-433e-9234-bbcd64737793",
   "metadata": {},
   "outputs": [
    {
     "data": {
      "text/plain": [
       "19    3780\n",
       "15    3550\n",
       "14    3330\n",
       "20    3300\n",
       "16    3038\n",
       "17    2724\n",
       "13    2701\n",
       "18    2419\n",
       "10    2306\n",
       "11    2286\n",
       "12    1664\n",
       "9     1664\n",
       "8     1603\n",
       "21    1568\n",
       "7     1331\n",
       "22     751\n",
       "23     592\n",
       "0      358\n",
       "1      219\n",
       "2      209\n",
       "6      180\n",
       "3       84\n",
       "4       40\n",
       "5       35\n",
       "Name: hour, dtype: int64"
      ]
     },
     "execution_count": 36,
     "metadata": {},
     "output_type": "execute_result"
    }
   ],
   "source": [
    "data['hour']=data['Time'].dt.hour\n",
    "data['hour'].value_counts()"
   ]
  },
  {
   "cell_type": "code",
   "execution_count": 40,
   "id": "a175ac74-5c19-4cd2-9e2a-798f8bd6a841",
   "metadata": {},
   "outputs": [
    {
     "data": {
      "text/html": [
       "<div>\n",
       "<style scoped>\n",
       "    .dataframe tbody tr th:only-of-type {\n",
       "        vertical-align: middle;\n",
       "    }\n",
       "\n",
       "    .dataframe tbody tr th {\n",
       "        vertical-align: top;\n",
       "    }\n",
       "\n",
       "    .dataframe thead th {\n",
       "        text-align: right;\n",
       "    }\n",
       "</style>\n",
       "<table border=\"1\" class=\"dataframe\">\n",
       "  <thead>\n",
       "    <tr style=\"text-align: right;\">\n",
       "      <th></th>\n",
       "      <th>단속일시</th>\n",
       "      <th>단속원금</th>\n",
       "      <th>단속동</th>\n",
       "      <th>단속장소</th>\n",
       "      <th>위반내용</th>\n",
       "      <th>견인지시</th>\n",
       "      <th>DateTime</th>\n",
       "      <th>Time</th>\n",
       "      <th>hour</th>\n",
       "    </tr>\n",
       "  </thead>\n",
       "  <tbody>\n",
       "    <tr>\n",
       "      <th>67</th>\n",
       "      <td>2022-01-01 17:05</td>\n",
       "      <td>40000</td>\n",
       "      <td>구의동</td>\n",
       "      <td>지너스타워 주차장 앞</td>\n",
       "      <td>주정차금지(황색실선)구역</td>\n",
       "      <td>미견인</td>\n",
       "      <td>2022-01-01 17:05:00</td>\n",
       "      <td>2022-01-01 17:05:00</td>\n",
       "      <td>17</td>\n",
       "    </tr>\n",
       "    <tr>\n",
       "      <th>68</th>\n",
       "      <td>2022-01-01 17:29</td>\n",
       "      <td>40000</td>\n",
       "      <td>구의동</td>\n",
       "      <td>지너스타워 주차장 앞</td>\n",
       "      <td>주정차금지(황색실선)구역</td>\n",
       "      <td>미견인</td>\n",
       "      <td>2022-01-01 17:29:00</td>\n",
       "      <td>2022-01-01 17:29:00</td>\n",
       "      <td>17</td>\n",
       "    </tr>\n",
       "    <tr>\n",
       "      <th>72</th>\n",
       "      <td>2022-01-01 19:55</td>\n",
       "      <td>40000</td>\n",
       "      <td>구의동</td>\n",
       "      <td>지너스타워 주차장 앞</td>\n",
       "      <td>교차로</td>\n",
       "      <td>미견인</td>\n",
       "      <td>2022-01-01 19:55:00</td>\n",
       "      <td>2022-01-01 19:55:00</td>\n",
       "      <td>19</td>\n",
       "    </tr>\n",
       "    <tr>\n",
       "      <th>93</th>\n",
       "      <td>2022-01-02 7:10</td>\n",
       "      <td>40000</td>\n",
       "      <td>구의동</td>\n",
       "      <td>지너스타워 주차장 앞</td>\n",
       "      <td>주정차금지(황색실선)구역</td>\n",
       "      <td>미견인</td>\n",
       "      <td>2022-01-02 07:10:00</td>\n",
       "      <td>2022-01-02 07:10:00</td>\n",
       "      <td>7</td>\n",
       "    </tr>\n",
       "    <tr>\n",
       "      <th>96</th>\n",
       "      <td>2022-01-02 7:44</td>\n",
       "      <td>40000</td>\n",
       "      <td>구의동</td>\n",
       "      <td>지너스타워 주차장 앞</td>\n",
       "      <td>주정차금지(황색실선)구역</td>\n",
       "      <td>미견인</td>\n",
       "      <td>2022-01-02 07:44:00</td>\n",
       "      <td>2022-01-02 07:44:00</td>\n",
       "      <td>7</td>\n",
       "    </tr>\n",
       "    <tr>\n",
       "      <th>...</th>\n",
       "      <td>...</td>\n",
       "      <td>...</td>\n",
       "      <td>...</td>\n",
       "      <td>...</td>\n",
       "      <td>...</td>\n",
       "      <td>...</td>\n",
       "      <td>...</td>\n",
       "      <td>...</td>\n",
       "      <td>...</td>\n",
       "    </tr>\n",
       "    <tr>\n",
       "      <th>39540</th>\n",
       "      <td>2023-02-26 7:39</td>\n",
       "      <td>32000</td>\n",
       "      <td>구의동</td>\n",
       "      <td>지너스타워 주차장 앞</td>\n",
       "      <td>주정차금지(황색실선)구역</td>\n",
       "      <td>미견인</td>\n",
       "      <td>2023-02-26 07:39:00</td>\n",
       "      <td>2023-02-26 07:39:00</td>\n",
       "      <td>7</td>\n",
       "    </tr>\n",
       "    <tr>\n",
       "      <th>39541</th>\n",
       "      <td>2023-02-26 7:39</td>\n",
       "      <td>32000</td>\n",
       "      <td>구의동</td>\n",
       "      <td>지너스타워 주차장 앞</td>\n",
       "      <td>주정차금지(황색실선)구역</td>\n",
       "      <td>미견인</td>\n",
       "      <td>2023-02-26 07:39:00</td>\n",
       "      <td>2023-02-26 07:39:00</td>\n",
       "      <td>7</td>\n",
       "    </tr>\n",
       "    <tr>\n",
       "      <th>39547</th>\n",
       "      <td>2023-02-26 10:49</td>\n",
       "      <td>32000</td>\n",
       "      <td>구의동</td>\n",
       "      <td>지너스타워 주차장 앞</td>\n",
       "      <td>주정차금지(황색실선)구역</td>\n",
       "      <td>미견인</td>\n",
       "      <td>2023-02-26 10:49:00</td>\n",
       "      <td>2023-02-26 10:49:00</td>\n",
       "      <td>10</td>\n",
       "    </tr>\n",
       "    <tr>\n",
       "      <th>39585</th>\n",
       "      <td>2023-02-26 21:48</td>\n",
       "      <td>32000</td>\n",
       "      <td>구의동</td>\n",
       "      <td>지너스타워 주차장 앞</td>\n",
       "      <td>주정차금지(황색실선)구역</td>\n",
       "      <td>미견인</td>\n",
       "      <td>2023-02-26 21:48:00</td>\n",
       "      <td>2023-02-26 21:48:00</td>\n",
       "      <td>21</td>\n",
       "    </tr>\n",
       "    <tr>\n",
       "      <th>39691</th>\n",
       "      <td>2023-02-28 14:23</td>\n",
       "      <td>32000</td>\n",
       "      <td>구의동</td>\n",
       "      <td>지너스타워 주차장 앞</td>\n",
       "      <td>횡단보도</td>\n",
       "      <td>미견인</td>\n",
       "      <td>2023-02-28 14:23:00</td>\n",
       "      <td>2023-02-28 14:23:00</td>\n",
       "      <td>14</td>\n",
       "    </tr>\n",
       "  </tbody>\n",
       "</table>\n",
       "<p>1386 rows × 9 columns</p>\n",
       "</div>"
      ],
      "text/plain": [
       "                   단속일시   단속원금  단속동         단속장소           위반내용 견인지시  \\\n",
       "67     2022-01-01 17:05  40000  구의동  지너스타워 주차장 앞  주정차금지(황색실선)구역  미견인   \n",
       "68     2022-01-01 17:29  40000  구의동  지너스타워 주차장 앞  주정차금지(황색실선)구역  미견인   \n",
       "72     2022-01-01 19:55  40000  구의동  지너스타워 주차장 앞            교차로  미견인   \n",
       "93      2022-01-02 7:10  40000  구의동  지너스타워 주차장 앞  주정차금지(황색실선)구역  미견인   \n",
       "96      2022-01-02 7:44  40000  구의동  지너스타워 주차장 앞  주정차금지(황색실선)구역  미견인   \n",
       "...                 ...    ...  ...          ...            ...  ...   \n",
       "39540   2023-02-26 7:39  32000  구의동  지너스타워 주차장 앞  주정차금지(황색실선)구역  미견인   \n",
       "39541   2023-02-26 7:39  32000  구의동  지너스타워 주차장 앞  주정차금지(황색실선)구역  미견인   \n",
       "39547  2023-02-26 10:49  32000  구의동  지너스타워 주차장 앞  주정차금지(황색실선)구역  미견인   \n",
       "39585  2023-02-26 21:48  32000  구의동  지너스타워 주차장 앞  주정차금지(황색실선)구역  미견인   \n",
       "39691  2023-02-28 14:23  32000  구의동  지너스타워 주차장 앞           횡단보도  미견인   \n",
       "\n",
       "                 DateTime                Time  hour  \n",
       "67    2022-01-01 17:05:00 2022-01-01 17:05:00    17  \n",
       "68    2022-01-01 17:29:00 2022-01-01 17:29:00    17  \n",
       "72    2022-01-01 19:55:00 2022-01-01 19:55:00    19  \n",
       "93    2022-01-02 07:10:00 2022-01-02 07:10:00     7  \n",
       "96    2022-01-02 07:44:00 2022-01-02 07:44:00     7  \n",
       "...                   ...                 ...   ...  \n",
       "39540 2023-02-26 07:39:00 2023-02-26 07:39:00     7  \n",
       "39541 2023-02-26 07:39:00 2023-02-26 07:39:00     7  \n",
       "39547 2023-02-26 10:49:00 2023-02-26 10:49:00    10  \n",
       "39585 2023-02-26 21:48:00 2023-02-26 21:48:00    21  \n",
       "39691 2023-02-28 14:23:00 2023-02-28 14:23:00    14  \n",
       "\n",
       "[1386 rows x 9 columns]"
      ]
     },
     "execution_count": 40,
     "metadata": {},
     "output_type": "execute_result"
    }
   ],
   "source": [
    "a=data[data['단속장소']=='지너스타워 주차장 앞']\n",
    "a"
   ]
  },
  {
   "cell_type": "code",
   "execution_count": 41,
   "id": "d22c68e3-653a-418d-8c56-e1c73298ca22",
   "metadata": {},
   "outputs": [
    {
     "name": "stderr",
     "output_type": "stream",
     "text": [
      "C:\\Algorithm\\lib\\site-packages\\seaborn\\_decorators.py:36: FutureWarning: Pass the following variables as keyword args: x, y. From version 0.12, the only valid positional argument will be `data`, and passing other arguments without an explicit keyword will result in an error or misinterpretation.\n",
      "  warnings.warn(\n"
     ]
    },
    {
     "data": {
      "text/plain": [
       "<AxesSubplot:ylabel='hour'>"
      ]
     },
     "execution_count": 41,
     "metadata": {},
     "output_type": "execute_result"
    },
    {
     "data": {
      "image/png": "[encoded data removed]",
      "text/plain": [
       "<Figure size 432x288 with 1 Axes>"
      ]
     },
     "metadata": {
      "needs_background": "light"
     },
     "output_type": "display_data"
    }
   ],
   "source": [
    "import seaborn as sns\n",
    "sns.barplot(a.hour.value_counts().index, a.hour.value_counts())"
   ]
  },
  {
   "cell_type": "code",
   "execution_count": 43,
   "id": "260f6d03-0526-4529-920f-45b34ab236e4",
   "metadata": {},
   "outputs": [
    {
     "name": "stderr",
     "output_type": "stream",
     "text": [
      "C:\\Algorithm\\lib\\site-packages\\seaborn\\_decorators.py:36: FutureWarning: Pass the following variables as keyword args: x, y. From version 0.12, the only valid positional argument will be `data`, and passing other arguments without an explicit keyword will result in an error or misinterpretation.\n",
      "  warnings.warn(\n"
     ]
    },
    {
     "data": {
      "text/plain": [
       "<AxesSubplot:ylabel='hour'>"
      ]
     },
     "execution_count": 43,
     "metadata": {},
     "output_type": "execute_result"
    },
    {
     "data": {
      "image/png": "[encoded data removed]",
      "text/plain": [
       "<Figure size 432x288 with 1 Axes>"
      ]
     },
     "metadata": {
      "needs_background": "light"
     },
     "output_type": "display_data"
    }
   ],
   "source": [
    "b=data[data['단속장소']=='리젠트오피스텔건너편']\n",
    "sns.barplot(b.hour.value_counts().index, b.hour.value_counts())\n"
   ]
  },
  {
   "cell_type": "code",
   "execution_count": 44,
   "id": "5b6dabb6-f5d1-4161-9ba2-a2acb291b17d",
   "metadata": {},
   "outputs": [
    {
     "name": "stderr",
     "output_type": "stream",
     "text": [
      "C:\\Algorithm\\lib\\site-packages\\seaborn\\_decorators.py:36: FutureWarning: Pass the following variables as keyword args: x, y. From version 0.12, the only valid positional argument will be `data`, and passing other arguments without an explicit keyword will result in an error or misinterpretation.\n",
      "  warnings.warn(\n"
     ]
    },
    {
     "data": {
      "text/plain": [
       "<AxesSubplot:ylabel='hour'>"
      ]
     },
     "execution_count": 44,
     "metadata": {},
     "output_type": "execute_result"
    },
    {
     "data": {
      "image/png": "[encoded data removed]",
      "text/plain": [
       "<Figure size 432x288 with 1 Axes>"
      ]
     },
     "metadata": {
      "needs_background": "light"
     },
     "output_type": "display_data"
    }
   ],
   "source": [
    "c=data[data['단속장소']=='구의동 웰츠타워 앞']\n",
    "sns.barplot(c.hour.value_counts().index, c.hour.value_counts())"
   ]
  },
  {
   "cell_type": "code",
   "execution_count": 45,
   "id": "69ee1c8a-c777-4da1-9fbd-08c0c008a4a1",
   "metadata": {},
   "outputs": [
    {
     "name": "stderr",
     "output_type": "stream",
     "text": [
      "C:\\Algorithm\\lib\\site-packages\\seaborn\\_decorators.py:36: FutureWarning: Pass the following variables as keyword args: x, y. From version 0.12, the only valid positional argument will be `data`, and passing other arguments without an explicit keyword will result in an error or misinterpretation.\n",
      "  warnings.warn(\n"
     ]
    },
    {
     "data": {
      "text/plain": [
       "<AxesSubplot:ylabel='hour'>"
      ]
     },
     "execution_count": 45,
     "metadata": {},
     "output_type": "execute_result"
    },
    {
     "data": {
      "image/png": "[encoded data removed]",
      "text/plain": [
       "<Figure size 432x288 with 1 Axes>"
      ]
     },
     "metadata": {
      "needs_background": "light"
     },
     "output_type": "display_data"
    }
   ],
   "source": [
    "d=data[data['단속장소']=='MB모터스 옆']\n",
    "sns.barplot(d.hour.value_counts().index, d.hour.value_counts())"
   ]
  },
  {
   "cell_type": "code",
   "execution_count": 46,
   "id": "d957e3e2-0a94-42e3-8172-4afe7f5160e2",
   "metadata": {},
   "outputs": [
    {
     "name": "stderr",
     "output_type": "stream",
     "text": [
      "C:\\Algorithm\\lib\\site-packages\\seaborn\\_decorators.py:36: FutureWarning: Pass the following variables as keyword args: x, y. From version 0.12, the only valid positional argument will be `data`, and passing other arguments without an explicit keyword will result in an error or misinterpretation.\n",
      "  warnings.warn(\n"
     ]
    },
    {
     "data": {
      "text/plain": [
       "<AxesSubplot:ylabel='hour'>"
      ]
     },
     "execution_count": 46,
     "metadata": {},
     "output_type": "execute_result"
    },
    {
     "data": {
      "image/png": "[encoded data removed]",
      "text/plain": [
       "<Figure size 432x288 with 1 Axes>"
      ]
     },
     "metadata": {
      "needs_background": "light"
     },
     "output_type": "display_data"
    }
   ],
   "source": [
    "e=data[data['단속장소']=='건대입구 1번 출구 앞']\n",
    "sns.barplot(e.hour.value_counts().index, e.hour.value_counts())"
   ]
  },
  {
   "cell_type": "code",
   "execution_count": null,
   "id": "d75cfd19-58ef-4093-97eb-26b2ce586d8b",
   "metadata": {},
   "outputs": [],
   "source": []
  }
 ],
 "metadata": {
  "kernelspec": {
   "display_name": "Python 3 (ipykernel)",
   "language": "python",
   "name": "python3"
  },
  "language_info": {
   "codemirror_mode": {
    "name": "ipython",
    "version": 3
   },
   "file_extension": ".py",
   "mimetype": "text/x-python",
   "name": "python",
   "nbconvert_exporter": "python",
   "pygments_lexer": "ipython3",
   "version": "3.9.12"
  }
 },
 "nbformat": 4,
 "nbformat_minor": 5
}
